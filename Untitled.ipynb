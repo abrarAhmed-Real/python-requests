{
 "cells": [
  {
   "cell_type": "code",
   "execution_count": 5,
   "id": "e4b55c2b",
   "metadata": {},
   "outputs": [],
   "source": [
    "\n"
   ]
  },
  {
   "cell_type": "code",
   "execution_count": 24,
   "id": "e41e7332",
   "metadata": {
    "scrolled": true
   },
   "outputs": [
    {
     "name": "stdout",
     "output_type": "stream",
     "text": [
      "Please enter a valid url: https://jsonplaceholder.typicode.com\n",
      "checking https://jsonplaceholder.typicode.com/robot.txt..\n",
      "some exception occured checking directory /robot.txt HTTPSConnectionPool(host='jsonplaceholder.typicode.com', port=443): Max retries exceeded with url: /robot.txt (Caused by NewConnectionError('<urllib3.connection.HTTPSConnection object at 0x00000291CA580EB0>: Failed to establish a new connection: [WinError 10060] A connection attempt failed because the connected party did not properly respond after a period of time, or established connection failed because connected host has failed to respond'))\n",
      "checking https://jsonplaceholder.typicode.com/index.html..\n",
      "some exception occured checking directory /index.html HTTPSConnectionPool(host='jsonplaceholder.typicode.com', port=443): Max retries exceeded with url: /index.html (Caused by NewConnectionError('<urllib3.connection.HTTPSConnection object at 0x00000291CAC4A4F0>: Failed to establish a new connection: [WinError 10060] A connection attempt failed because the connected party did not properly respond after a period of time, or established connection failed because connected host has failed to respond'))\n",
      "checking https://jsonplaceholder.typicode.com/about..\n",
      "direcotory not found /about\n",
      "checking https://jsonplaceholder.typicode.com/contact..\n",
      "direcotory not found /contact\n",
      "checking https://jsonplaceholder.typicode.com/blog..\n",
      "direcotory not found /blog\n",
      "checking https://jsonplaceholder.typicode.com/news..\n",
      "direcotory not found /news\n",
      "checking https://jsonplaceholder.typicode.com/products..\n",
      "direcotory not found /products\n",
      "checking https://jsonplaceholder.typicode.com/services..\n",
      "direcotory not found /services\n",
      "checking https://jsonplaceholder.typicode.com/portfolio..\n",
      "direcotory not found /portfolio\n",
      "checking https://jsonplaceholder.typicode.com/faq..\n",
      "direcotory not found /faq\n",
      "checking https://jsonplaceholder.typicode.com/terms..\n",
      "direcotory not found /terms\n",
      "checking https://jsonplaceholder.typicode.com/privacy..\n",
      "direcotory not found /privacy\n",
      "checking https://jsonplaceholder.typicode.com/sitemap..\n",
      "direcotory not found /sitemap\n",
      "checking https://jsonplaceholder.typicode.com/login..\n",
      "direcotory not found /login\n",
      "checking https://jsonplaceholder.typicode.com/register..\n",
      "direcotory not found /register\n",
      "checking https://jsonplaceholder.typicode.com/support..\n",
      "direcotory not found /support\n",
      "checking https://jsonplaceholder.typicode.com/downloads..\n",
      "direcotory not found /downloads\n",
      "checking https://jsonplaceholder.typicode.com/images..\n",
      "direcotory not found /images\n",
      "checking https://jsonplaceholder.typicode.com/videos..\n",
      "direcotory not found /videos\n",
      "checking https://jsonplaceholder.typicode.com/audio..\n",
      "direcotory not found /audio\n",
      "checking https://jsonplaceholder.typicode.com/events ..\n",
      "direcotory not found /events \n",
      " total number of directories: 21\n",
      " total directories found: 0\n",
      " total directories not found: 21\n"
     ]
    }
   ],
   "source": [
    "import requests\n",
    "# example urls we can use to execute the function\n",
    "urls=[\n",
    "    \"https://httpbin.org\",\n",
    "    \"https://www.httpbin.org\",\n",
    "    \"https://jsonplaceholder.typicode.com\",\n",
    "    \"https://reqres.in\"\n",
    "]\n",
    "\n",
    "# open the text file containing the endpoints/directories\n",
    "with open('directoires.txt','r') as file:\n",
    "# read the file and split it by newline\n",
    "    dirs=file.read().split('\\n')\n",
    "\n",
    "\n",
    "# function that gets a url and directories to check if the directory exists.\n",
    "def check_directoiries(url,directories):\n",
    "# define varible that store total number of directories found\n",
    "    directories_found=0\n",
    "# varible that store total number of directories not found\n",
    "    directories_not_found=0\n",
    "# iterate through the directories list\n",
    "    for directory in directories:\n",
    "        print(f'checking {url+directory}..')\n",
    "        try:\n",
    "            # make a get request to the url + directoroy e.g https://reqre.in/robots.txt\n",
    "            response=requests.get(url+directory)\n",
    "            # check if the status code is 200 , display the message that the directory exists\n",
    "            if response.status_code==200:\n",
    "                print(f'directory {directory} found')\n",
    "            # increment the total_directories by 1\n",
    "                directories_found+=1\n",
    "            # if the status code is 400 , show a message that the directory does not exists\n",
    "            elif response.status_code==404:\n",
    "                print(f'direcotory not found {directory}')\n",
    "                # since the directory is not , we increment the directoires_not_found by 1\n",
    "                directories_not_found+=1\n",
    "            # if the status code is neither 200 nor 400 , tell the user user that an unknow status code is returned\n",
    "            else:\n",
    "                print(f'unknown status code {response.status_code}')\n",
    "            \n",
    "        except Exception as e:\n",
    "            # catch exception if there is any like timeout , no internet connection etc\n",
    "            print(f'some exception occured checking directory {directory} {e}')\n",
    "            directories_not_found+=1\n",
    "    # show total number of directories\n",
    "    print(f' total number of directories: {len(directories)}')\n",
    "    # show total number of directories found\n",
    "    print(f' total directories found: {directories_found}')\n",
    "    # show total number of directories not found\n",
    "    print(f' total directories not found: {directories_not_found}')\n",
    "\n",
    "\n",
    "url=input('Please enter a valid url: ')\n",
    "check_directoiries(url,dirs)"
   ]
  },
  {
   "cell_type": "markdown",
   "id": "0a5c933f",
   "metadata": {},
   "source": [
    "# second run"
   ]
  },
  {
   "cell_type": "code",
   "execution_count": 25,
   "id": "443cbce4",
   "metadata": {
    "scrolled": false
   },
   "outputs": [
    {
     "name": "stdout",
     "output_type": "stream",
     "text": [
      "Please enter a valid url: https://httpbin.org\n",
      "checking https://httpbin.org/robot.txt..\n",
      "unknown status code 504\n",
      "checking https://httpbin.org/index.html..\n",
      "direcotory not found /index.html\n",
      "checking https://httpbin.org/about..\n",
      "direcotory not found /about\n",
      "checking https://httpbin.org/contact..\n",
      "direcotory not found /contact\n",
      "checking https://httpbin.org/blog..\n",
      "direcotory not found /blog\n",
      "checking https://httpbin.org/news..\n",
      "unknown status code 504\n",
      "checking https://httpbin.org/products..\n",
      "direcotory not found /products\n",
      "checking https://httpbin.org/services..\n",
      "direcotory not found /services\n",
      "checking https://httpbin.org/portfolio..\n",
      "direcotory not found /portfolio\n",
      "checking https://httpbin.org/faq..\n",
      "unknown status code 504\n",
      "checking https://httpbin.org/terms..\n",
      "direcotory not found /terms\n",
      "checking https://httpbin.org/privacy..\n",
      "direcotory not found /privacy\n",
      "checking https://httpbin.org/sitemap..\n",
      "direcotory not found /sitemap\n",
      "checking https://httpbin.org/login..\n",
      "direcotory not found /login\n",
      "checking https://httpbin.org/register..\n",
      "direcotory not found /register\n",
      "checking https://httpbin.org/support..\n",
      "direcotory not found /support\n",
      "checking https://httpbin.org/downloads..\n",
      "direcotory not found /downloads\n",
      "checking https://httpbin.org/images..\n",
      "direcotory not found /images\n",
      "checking https://httpbin.org/videos..\n",
      "direcotory not found /videos\n",
      "checking https://httpbin.org/audio..\n",
      "direcotory not found /audio\n",
      "checking https://httpbin.org/events ..\n",
      "unknown status code 504\n",
      " total number of directories: 21\n",
      " total directories found: 0\n",
      " total directories not found: 17\n"
     ]
    }
   ],
   "source": [
    "url=input('Please enter a valid url: ')\n",
    "check_directoiries(url,dirs)"
   ]
  },
  {
   "cell_type": "markdown",
   "id": "369ac67f",
   "metadata": {},
   "source": [
    "# third run"
   ]
  },
  {
   "cell_type": "code",
   "execution_count": 26,
   "id": "00eeb4e0",
   "metadata": {
    "scrolled": false
   },
   "outputs": [
    {
     "name": "stdout",
     "output_type": "stream",
     "text": [
      "Please enter a valid url: https://reqres.in\n",
      "checking https://reqres.in/robot.txt..\n",
      "direcotory not found /robot.txt\n",
      "checking https://reqres.in/index.html..\n",
      "direcotory not found /index.html\n",
      "checking https://reqres.in/about..\n",
      "direcotory not found /about\n",
      "checking https://reqres.in/contact..\n",
      "direcotory not found /contact\n",
      "checking https://reqres.in/blog..\n",
      "direcotory not found /blog\n",
      "checking https://reqres.in/news..\n",
      "direcotory not found /news\n",
      "checking https://reqres.in/products..\n",
      "direcotory not found /products\n",
      "checking https://reqres.in/services..\n",
      "direcotory not found /services\n",
      "checking https://reqres.in/portfolio..\n",
      "direcotory not found /portfolio\n",
      "checking https://reqres.in/faq..\n",
      "direcotory not found /faq\n",
      "checking https://reqres.in/terms..\n",
      "direcotory not found /terms\n",
      "checking https://reqres.in/privacy..\n",
      "direcotory not found /privacy\n",
      "checking https://reqres.in/sitemap..\n",
      "direcotory not found /sitemap\n",
      "checking https://reqres.in/login..\n",
      "direcotory not found /login\n",
      "checking https://reqres.in/register..\n",
      "direcotory not found /register\n",
      "checking https://reqres.in/support..\n",
      "direcotory not found /support\n",
      "checking https://reqres.in/downloads..\n",
      "direcotory not found /downloads\n",
      "checking https://reqres.in/images..\n",
      "direcotory not found /images\n",
      "checking https://reqres.in/videos..\n",
      "direcotory not found /videos\n",
      "checking https://reqres.in/audio..\n",
      "direcotory not found /audio\n",
      "checking https://reqres.in/events ..\n",
      "direcotory not found /events \n",
      " total number of directories: 21\n",
      " total directories found: 0\n",
      " total directories not found: 21\n"
     ]
    }
   ],
   "source": [
    "url=input('Please enter a valid url: ')\n",
    "check_directoiries(url,dirs)"
   ]
  },
  {
   "cell_type": "markdown",
   "id": "389f847b",
   "metadata": {},
   "source": [
    "# fourth run"
   ]
  },
  {
   "cell_type": "code",
   "execution_count": 27,
   "id": "0b1b3021",
   "metadata": {},
   "outputs": [
    {
     "name": "stdout",
     "output_type": "stream",
     "text": [
      "Please enter a valid url: https://www.mocky.io/\n",
      "checking https://www.mocky.io//robot.txt..\n",
      "direcotory not found /robot.txt\n",
      "checking https://www.mocky.io//index.html..\n",
      "direcotory not found /index.html\n",
      "checking https://www.mocky.io//about..\n",
      "direcotory not found /about\n",
      "checking https://www.mocky.io//contact..\n",
      "direcotory not found /contact\n",
      "checking https://www.mocky.io//blog..\n",
      "direcotory not found /blog\n",
      "checking https://www.mocky.io//news..\n",
      "direcotory not found /news\n",
      "checking https://www.mocky.io//products..\n",
      "direcotory not found /products\n",
      "checking https://www.mocky.io//services..\n",
      "direcotory not found /services\n",
      "checking https://www.mocky.io//portfolio..\n",
      "direcotory not found /portfolio\n",
      "checking https://www.mocky.io//faq..\n",
      "direcotory not found /faq\n",
      "checking https://www.mocky.io//terms..\n",
      "direcotory not found /terms\n",
      "checking https://www.mocky.io//privacy..\n",
      "direcotory not found /privacy\n",
      "checking https://www.mocky.io//sitemap..\n",
      "direcotory not found /sitemap\n",
      "checking https://www.mocky.io//login..\n",
      "direcotory not found /login\n",
      "checking https://www.mocky.io//register..\n",
      "direcotory not found /register\n",
      "checking https://www.mocky.io//support..\n",
      "direcotory not found /support\n",
      "checking https://www.mocky.io//downloads..\n",
      "direcotory not found /downloads\n",
      "checking https://www.mocky.io//images..\n",
      "direcotory not found /images\n",
      "checking https://www.mocky.io//videos..\n",
      "direcotory not found /videos\n",
      "checking https://www.mocky.io//audio..\n",
      "direcotory not found /audio\n",
      "checking https://www.mocky.io//events ..\n",
      "direcotory not found /events \n",
      " total number of directories: 21\n",
      " total directories found: 0\n",
      " total directories not found: 21\n"
     ]
    }
   ],
   "source": [
    "url=input('Please enter a valid url: ')\n",
    "check_directoiries(url,dirs)"
   ]
  },
  {
   "cell_type": "code",
   "execution_count": null,
   "id": "d5122047",
   "metadata": {},
   "outputs": [],
   "source": [
    " "
   ]
  }
 ],
 "metadata": {
  "kernelspec": {
   "display_name": "Python 3",
   "language": "python",
   "name": "python3"
  },
  "language_info": {
   "codemirror_mode": {
    "name": "ipython",
    "version": 3
   },
   "file_extension": ".py",
   "mimetype": "text/x-python",
   "name": "python",
   "nbconvert_exporter": "python",
   "pygments_lexer": "ipython3",
   "version": "3.8.8"
  }
 },
 "nbformat": 4,
 "nbformat_minor": 5
}
